{
 "cells": [
  {
   "cell_type": "code",
   "execution_count": 1,
   "metadata": {
    "collapsed": false
   },
   "outputs": [
    {
     "name": "stderr",
     "output_type": "stream",
     "text": [
      "Using Theano backend.\n"
     ]
    },
    {
     "data": {
      "text/plain": [
       "'C:\\\\deep_learning'"
      ]
     },
     "execution_count": 1,
     "metadata": {},
     "output_type": "execute_result"
    }
   ],
   "source": [
    "from keras.models import Sequential\n",
    "from keras.layers import Dense\n",
    "from keras.callbacks import ModelCheckpoint\n",
    "import matplotlib.pyplot as plt\n",
    "import os\n",
    "import numpy\n",
    "\n",
    "os.chdir('C:/deep_learning') # This is where the input dataset is stored\n",
    "os.getcwd()"
   ]
  },
  {
   "cell_type": "code",
   "execution_count": 2,
   "metadata": {
    "collapsed": true
   },
   "outputs": [],
   "source": [
    "# fix random seed for reproducibility\n",
    "seed = 7\n",
    "numpy.random.seed(seed)\n",
    "# load pima indians dataset\n",
    "dataset = numpy.loadtxt(\"pima-indians-diabetes.csv\", delimiter=\",\")\n",
    "# split into input (X) and output (Y) variables\n",
    "X = dataset[:,0:8]\n",
    "Y = dataset[:,8]\n",
    "\n",
    "# Create model, no need to define a function \"create_model()\" because we are not using scikit-learn wrapper\n",
    "# create model\n",
    "model = Sequential()\n",
    "model.add(Dense(12, input_dim=8, activation='relu'))\n",
    "model.add(Dense(8, activation='relu'))\n",
    "model.add(Dense(1, activation='sigmoid'))"
   ]
  },
  {
   "cell_type": "code",
   "execution_count": 3,
   "metadata": {
    "collapsed": false
   },
   "outputs": [
    {
     "name": "stdout",
     "output_type": "stream",
     "text": [
      "Created model and loaded weights from file\n"
     ]
    }
   ],
   "source": [
    "# load weights\n",
    "model.load_weights(\"weights.best.hdf5\")\n",
    "# Compile model (required to make predictions)\n",
    "model.compile(loss='binary_crossentropy', optimizer='adam', metrics=['accuracy'])\n",
    "print(\"Created model and loaded weights from file\")"
   ]
  },
  {
   "cell_type": "code",
   "execution_count": 4,
   "metadata": {
    "collapsed": false
   },
   "outputs": [
    {
     "name": "stdout",
     "output_type": "stream",
     "text": [
      "672/768 [=========================>....] - ETA: 0sacc: 74.74%\n"
     ]
    }
   ],
   "source": [
    "# estimate accuracy on whole dataset using loaded weights\n",
    "scores = model.evaluate(X, Y, verbose=1)\n",
    "print(\"%s: %.2f%%\" % (model.metrics_names[1], scores[1]*100))"
   ]
  },
  {
   "cell_type": "code",
   "execution_count": 6,
   "metadata": {
    "collapsed": false
   },
   "outputs": [
    {
     "name": "stdout",
     "output_type": "stream",
     "text": [
      "Train on 514 samples, validate on 254 samples\n",
      "Epoch 1/30\n",
      "514/514 [==============================] - 0s - loss: 0.5127 - acc: 0.7335 - val_loss: 0.5400 - val_acc: 0.7520\n",
      "Epoch 2/30\n",
      "514/514 [==============================] - 0s - loss: 0.5199 - acc: 0.7276 - val_loss: 0.5785 - val_acc: 0.7087\n",
      "Epoch 3/30\n",
      "514/514 [==============================] - 0s - loss: 0.5204 - acc: 0.7393 - val_loss: 0.5816 - val_acc: 0.7126\n",
      "Epoch 4/30\n",
      "514/514 [==============================] - 0s - loss: 0.5266 - acc: 0.7490 - val_loss: 0.5998 - val_acc: 0.7126\n",
      "Epoch 5/30\n",
      "514/514 [==============================] - 0s - loss: 0.5252 - acc: 0.7354 - val_loss: 0.5440 - val_acc: 0.7362\n",
      "Epoch 6/30\n",
      "514/514 [==============================] - 0s - loss: 0.5259 - acc: 0.7393 - val_loss: 0.5506 - val_acc: 0.7480\n",
      "Epoch 7/30\n",
      "514/514 [==============================] - 0s - loss: 0.5267 - acc: 0.7412 - val_loss: 0.5542 - val_acc: 0.7362\n",
      "Epoch 8/30\n",
      "514/514 [==============================] - 0s - loss: 0.5133 - acc: 0.7549 - val_loss: 0.5612 - val_acc: 0.7205\n",
      "Epoch 9/30\n",
      "514/514 [==============================] - 0s - loss: 0.5223 - acc: 0.7393 - val_loss: 0.5982 - val_acc: 0.7126\n",
      "Epoch 10/30\n",
      "514/514 [==============================] - 0s - loss: 0.5164 - acc: 0.7451 - val_loss: 0.5708 - val_acc: 0.7283\n",
      "Epoch 11/30\n",
      "514/514 [==============================] - 0s - loss: 0.5210 - acc: 0.7354 - val_loss: 0.5584 - val_acc: 0.7402\n",
      "Epoch 12/30\n",
      "514/514 [==============================] - 0s - loss: 0.5182 - acc: 0.7412 - val_loss: 0.5586 - val_acc: 0.7323\n",
      "Epoch 13/30\n",
      "514/514 [==============================] - 0s - loss: 0.5113 - acc: 0.7510 - val_loss: 0.5571 - val_acc: 0.7441\n",
      "Epoch 14/30\n",
      "514/514 [==============================] - 0s - loss: 0.5182 - acc: 0.7412 - val_loss: 0.5636 - val_acc: 0.7323\n",
      "Epoch 15/30\n",
      "514/514 [==============================] - 0s - loss: 0.5065 - acc: 0.7471 - val_loss: 0.5494 - val_acc: 0.7520\n",
      "Epoch 16/30\n",
      "514/514 [==============================] - 0s - loss: 0.5279 - acc: 0.7315 - val_loss: 0.5728 - val_acc: 0.7205\n",
      "Epoch 17/30\n",
      "514/514 [==============================] - 0s - loss: 0.5169 - acc: 0.7335 - val_loss: 0.5724 - val_acc: 0.7402\n",
      "Epoch 18/30\n",
      "514/514 [==============================] - 0s - loss: 0.5210 - acc: 0.7393 - val_loss: 0.5337 - val_acc: 0.7402\n",
      "Epoch 19/30\n",
      "514/514 [==============================] - 0s - loss: 0.5399 - acc: 0.7354 - val_loss: 0.5490 - val_acc: 0.7598\n",
      "Epoch 20/30\n",
      "514/514 [==============================] - 0s - loss: 0.5062 - acc: 0.7568 - val_loss: 0.5803 - val_acc: 0.7205\n",
      "Epoch 21/30\n",
      "514/514 [==============================] - 0s - loss: 0.5089 - acc: 0.7510 - val_loss: 0.5527 - val_acc: 0.7598\n",
      "Epoch 22/30\n",
      "514/514 [==============================] - 0s - loss: 0.5149 - acc: 0.7490 - val_loss: 0.5519 - val_acc: 0.7480\n",
      "Epoch 23/30\n",
      "514/514 [==============================] - 0s - loss: 0.5218 - acc: 0.7393 - val_loss: 0.5512 - val_acc: 0.7677\n",
      "Epoch 24/30\n",
      "514/514 [==============================] - 0s - loss: 0.5008 - acc: 0.7549 - val_loss: 0.5566 - val_acc: 0.7480\n",
      "Epoch 25/30\n",
      "514/514 [==============================] - 0s - loss: 0.5147 - acc: 0.7490 - val_loss: 0.5574 - val_acc: 0.7323\n",
      "Epoch 26/30\n",
      "514/514 [==============================] - 0s - loss: 0.5163 - acc: 0.7646 - val_loss: 0.5481 - val_acc: 0.7362\n",
      "Epoch 27/30\n",
      "514/514 [==============================] - 0s - loss: 0.5087 - acc: 0.7549 - val_loss: 0.5675 - val_acc: 0.7323\n",
      "Epoch 28/30\n",
      "514/514 [==============================] - 0s - loss: 0.5042 - acc: 0.7763 - val_loss: 0.7018 - val_acc: 0.5787\n",
      "Epoch 29/30\n",
      "514/514 [==============================] - 0s - loss: 0.4980 - acc: 0.7704 - val_loss: 0.5643 - val_acc: 0.7441\n",
      "Epoch 30/30\n",
      "514/514 [==============================] - 0s - loss: 0.5073 - acc: 0.7490 - val_loss: 0.5917 - val_acc: 0.7283\n"
     ]
    },
    {
     "data": {
      "text/plain": [
       "<keras.callbacks.History at 0x2b29852d358>"
      ]
     },
     "execution_count": 6,
     "metadata": {},
     "output_type": "execute_result"
    }
   ],
   "source": [
    "# Continue Training the model from the Saved Check-point\n",
    "model.fit(X, Y, validation_split=0.33, epochs=30, batch_size=10, verbose=1)"
   ]
  },
  {
   "cell_type": "code",
   "execution_count": 7,
   "metadata": {
    "collapsed": false
   },
   "outputs": [
    {
     "name": "stdout",
     "output_type": "stream",
     "text": [
      " 32/768 [>.............................] - ETA: 0sacc: 73.96%\n"
     ]
    }
   ],
   "source": [
    "# estimate accuracy on whole dataset after training some more\n",
    "scores = model.evaluate(X, Y, verbose=1)\n",
    "print(\"%s: %.2f%%\" % (model.metrics_names[1], scores[1]*100))"
   ]
  },
  {
   "cell_type": "code",
   "execution_count": null,
   "metadata": {
    "collapsed": true
   },
   "outputs": [],
   "source": []
  }
 ],
 "metadata": {
  "anaconda-cloud": {},
  "kernelspec": {
   "display_name": "Python [default]",
   "language": "python",
   "name": "python3"
  },
  "language_info": {
   "codemirror_mode": {
    "name": "ipython",
    "version": 3
   },
   "file_extension": ".py",
   "mimetype": "text/x-python",
   "name": "python",
   "nbconvert_exporter": "python",
   "pygments_lexer": "ipython3",
   "version": "3.5.2"
  }
 },
 "nbformat": 4,
 "nbformat_minor": 1
}
