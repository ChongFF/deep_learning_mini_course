{
 "cells": [
  {
   "cell_type": "code",
   "execution_count": 1,
   "metadata": {
    "collapsed": false
   },
   "outputs": [
    {
     "name": "stderr",
     "output_type": "stream",
     "text": [
      "Using Theano backend.\n"
     ]
    },
    {
     "data": {
      "text/plain": [
       "'C:\\\\deep_learning'"
      ]
     },
     "execution_count": 1,
     "metadata": {},
     "output_type": "execute_result"
    }
   ],
   "source": [
    "# Time Based Learning Rate Decay\n",
    "from pandas import read_csv\n",
    "import numpy\n",
    "from keras.models import Sequential\n",
    "from keras.layers import Dense\n",
    "from keras.optimizers import SGD\n",
    "from sklearn.preprocessing import LabelEncoder\n",
    "\n",
    "import os\n",
    "os.chdir('C:/deep_learning') # This is where the input dataset is stored\n",
    "os.getcwd()"
   ]
  },
  {
   "cell_type": "code",
   "execution_count": 2,
   "metadata": {
    "collapsed": false
   },
   "outputs": [
    {
     "name": "stdout",
     "output_type": "stream",
     "text": [
      "(351, 34)\n",
      "['g' 'b' 'g' 'b' 'g' 'b' 'g' 'b' 'g' 'b' 'g' 'b' 'g' 'b' 'g' 'b' 'g' 'b'\n",
      " 'g' 'b' 'g' 'b' 'g' 'b' 'g' 'b' 'g' 'b' 'g' 'b' 'g' 'b' 'g' 'b' 'g' 'b'\n",
      " 'g' 'b' 'g' 'b' 'g' 'b' 'g' 'b' 'g' 'b' 'g' 'b' 'g' 'b' 'g' 'b' 'g' 'b'\n",
      " 'g' 'b' 'g' 'b' 'g' 'b' 'g' 'b' 'g' 'b' 'g' 'b' 'g' 'b' 'g' 'b' 'g' 'b'\n",
      " 'g' 'b' 'g' 'b' 'g' 'b' 'g' 'b' 'g' 'b' 'g' 'b' 'g' 'b' 'g' 'b' 'g' 'b'\n",
      " 'g' 'b' 'g' 'b' 'g' 'b' 'g' 'g' 'b' 'g' 'b' 'g' 'b' 'g' 'b' 'g' 'b' 'g'\n",
      " 'b' 'g' 'b' 'g' 'b' 'g' 'b' 'g' 'b' 'g' 'b' 'g' 'b' 'g' 'b' 'g' 'b' 'g'\n",
      " 'b' 'g' 'b' 'g' 'b' 'g' 'b' 'g' 'b' 'g' 'b' 'g' 'b' 'g' 'b' 'g' 'b' 'g'\n",
      " 'b' 'g' 'b' 'g' 'b' 'g' 'b' 'g' 'b' 'g' 'b' 'g' 'b' 'g' 'b' 'g' 'b' 'g'\n",
      " 'b' 'g' 'b' 'g' 'b' 'g' 'b' 'g' 'b' 'g' 'b' 'g' 'b' 'g' 'b' 'g' 'b' 'g'\n",
      " 'b' 'g' 'b' 'g' 'b' 'g' 'b' 'g' 'b' 'g' 'b' 'g' 'b' 'g' 'b' 'g' 'b' 'g'\n",
      " 'b' 'g' 'b' 'g' 'b' 'g' 'b' 'g' 'b' 'g' 'b' 'g' 'b' 'g' 'b' 'g' 'b' 'g'\n",
      " 'b' 'g' 'b' 'g' 'b' 'g' 'b' 'g' 'b' 'g' 'b' 'g' 'b' 'g' 'b' 'g' 'b' 'g'\n",
      " 'b' 'g' 'b' 'g' 'b' 'g' 'b' 'g' 'b' 'g' 'b' 'g' 'b' 'g' 'b' 'g' 'b' 'g'\n",
      " 'b' 'g' 'g' 'g' 'g' 'g' 'g' 'g' 'g' 'g' 'g' 'g' 'g' 'g' 'g' 'g' 'g' 'g'\n",
      " 'g' 'g' 'g' 'g' 'g' 'g' 'g' 'g' 'g' 'g' 'g' 'g' 'g' 'g' 'g' 'g' 'g' 'g'\n",
      " 'g' 'g' 'g' 'g' 'g' 'g' 'g' 'g' 'g' 'g' 'g' 'g' 'g' 'g' 'g' 'g' 'g' 'g'\n",
      " 'g' 'g' 'g' 'g' 'g' 'g' 'g' 'g' 'g' 'g' 'g' 'g' 'g' 'g' 'g' 'g' 'g' 'g'\n",
      " 'g' 'g' 'g' 'g' 'g' 'g' 'g' 'g' 'g' 'g' 'g' 'g' 'g' 'g' 'g' 'g' 'g' 'g'\n",
      " 'g' 'g' 'g' 'g' 'g' 'g' 'g' 'g' 'g']\n",
      "[1 0 1 0 1 0 1 0 1 0 1 0 1 0 1 0 1 0 1 0 1 0 1 0 1 0 1 0 1 0 1 0 1 0 1 0 1\n",
      " 0 1 0 1 0 1 0 1 0 1 0 1 0 1 0 1 0 1 0 1 0 1 0 1 0 1 0 1 0 1 0 1 0 1 0 1 0\n",
      " 1 0 1 0 1 0 1 0 1 0 1 0 1 0 1 0 1 0 1 0 1 0 1 1 0 1 0 1 0 1 0 1 0 1 0 1 0\n",
      " 1 0 1 0 1 0 1 0 1 0 1 0 1 0 1 0 1 0 1 0 1 0 1 0 1 0 1 0 1 0 1 0 1 0 1 0 1\n",
      " 0 1 0 1 0 1 0 1 0 1 0 1 0 1 0 1 0 1 0 1 0 1 0 1 0 1 0 1 0 1 0 1 0 1 0 1 0\n",
      " 1 0 1 0 1 0 1 0 1 0 1 0 1 0 1 0 1 0 1 0 1 0 1 0 1 0 1 0 1 0 1 0 1 0 1 0 1\n",
      " 0 1 0 1 0 1 0 1 0 1 0 1 0 1 0 1 0 1 0 1 0 1 0 1 0 1 0 1 0 1 0 1 1 1 1 1 1\n",
      " 1 1 1 1 1 1 1 1 1 1 1 1 1 1 1 1 1 1 1 1 1 1 1 1 1 1 1 1 1 1 1 1 1 1 1 1 1\n",
      " 1 1 1 1 1 1 1 1 1 1 1 1 1 1 1 1 1 1 1 1 1 1 1 1 1 1 1 1 1 1 1 1 1 1 1 1 1\n",
      " 1 1 1 1 1 1 1 1 1 1 1 1 1 1 1 1 1 1]\n"
     ]
    }
   ],
   "source": [
    "# fix random seed for reproducibility\n",
    "seed = 7\n",
    "numpy.random.seed(seed)\n",
    "# load dataset\n",
    "dataframe = read_csv(\"ionosphere.csv\", header=None)\n",
    "dataset = dataframe.values\n",
    "# split into input (X) and output (Y) variables\n",
    "X = dataset[:,0:34].astype(float)\n",
    "Y = dataset[:,34]\n",
    "print(X.shape)\n",
    "print(Y)\n",
    "# encode class values as integers\n",
    "encoder = LabelEncoder()\n",
    "encoder.fit(Y)\n",
    "Y = encoder.transform(Y)\n",
    "print(Y)"
   ]
  },
  {
   "cell_type": "code",
   "execution_count": 3,
   "metadata": {
    "collapsed": true
   },
   "outputs": [],
   "source": [
    "# create model\n",
    "model = Sequential()\n",
    "model.add(Dense(34, input_dim=34, kernel_initializer='normal', activation='relu'))\n",
    "model.add(Dense(1, kernel_initializer='normal', activation='sigmoid'))"
   ]
  },
  {
   "cell_type": "code",
   "execution_count": 4,
   "metadata": {
    "collapsed": false
   },
   "outputs": [
    {
     "name": "stdout",
     "output_type": "stream",
     "text": [
      "Train on 235 samples, validate on 116 samples\n",
      "Epoch 1/50\n",
      "0s - loss: 0.6847 - acc: 0.6298 - val_loss: 0.6540 - val_acc: 0.7414\n",
      "Epoch 2/50\n",
      "0s - loss: 0.6420 - acc: 0.7702 - val_loss: 0.5431 - val_acc: 0.9224\n",
      "Epoch 3/50\n",
      "0s - loss: 0.5593 - acc: 0.8085 - val_loss: 0.4620 - val_acc: 0.9224\n",
      "Epoch 4/50\n",
      "0s - loss: 0.4653 - acc: 0.8340 - val_loss: 0.4340 - val_acc: 0.9138\n",
      "Epoch 5/50\n",
      "0s - loss: 0.3798 - acc: 0.8681 - val_loss: 0.2662 - val_acc: 0.9483\n",
      "Epoch 6/50\n",
      "0s - loss: 0.3137 - acc: 0.8894 - val_loss: 0.3781 - val_acc: 0.8793\n",
      "Epoch 7/50\n",
      "0s - loss: 0.2651 - acc: 0.9106 - val_loss: 0.2141 - val_acc: 0.9483\n",
      "Epoch 8/50\n",
      "0s - loss: 0.2320 - acc: 0.9277 - val_loss: 0.1345 - val_acc: 0.9741\n",
      "Epoch 9/50\n",
      "0s - loss: 0.2339 - acc: 0.9149 - val_loss: 0.1952 - val_acc: 0.9569\n",
      "Epoch 10/50\n",
      "0s - loss: 0.1868 - acc: 0.9362 - val_loss: 0.2581 - val_acc: 0.9138\n",
      "Epoch 11/50\n",
      "0s - loss: 0.1797 - acc: 0.9404 - val_loss: 0.1942 - val_acc: 0.9483\n",
      "Epoch 12/50\n",
      "0s - loss: 0.1598 - acc: 0.9489 - val_loss: 0.1013 - val_acc: 0.9828\n",
      "Epoch 13/50\n",
      "0s - loss: 0.1645 - acc: 0.9404 - val_loss: 0.0878 - val_acc: 0.9828\n",
      "Epoch 14/50\n",
      "0s - loss: 0.1568 - acc: 0.9447 - val_loss: 0.1409 - val_acc: 0.9741\n",
      "Epoch 15/50\n",
      "0s - loss: 0.1294 - acc: 0.9574 - val_loss: 0.0922 - val_acc: 0.9914\n",
      "Epoch 16/50\n",
      "0s - loss: 0.1300 - acc: 0.9574 - val_loss: 0.1450 - val_acc: 0.9655\n",
      "Epoch 17/50\n",
      "0s - loss: 0.1281 - acc: 0.9574 - val_loss: 0.1465 - val_acc: 0.9655\n",
      "Epoch 18/50\n",
      "0s - loss: 0.1173 - acc: 0.9574 - val_loss: 0.1168 - val_acc: 0.9828\n",
      "Epoch 19/50\n",
      "0s - loss: 0.1157 - acc: 0.9532 - val_loss: 0.0781 - val_acc: 0.9914\n",
      "Epoch 20/50\n",
      "0s - loss: 0.1068 - acc: 0.9660 - val_loss: 0.1078 - val_acc: 0.9914\n",
      "Epoch 21/50\n",
      "0s - loss: 0.0978 - acc: 0.9702 - val_loss: 0.0873 - val_acc: 0.9914\n",
      "Epoch 22/50\n",
      "0s - loss: 0.0937 - acc: 0.9702 - val_loss: 0.1026 - val_acc: 0.9914\n",
      "Epoch 23/50\n",
      "0s - loss: 0.0968 - acc: 0.9702 - val_loss: 0.0950 - val_acc: 0.9914\n",
      "Epoch 24/50\n",
      "0s - loss: 0.0854 - acc: 0.9787 - val_loss: 0.0680 - val_acc: 0.9914\n",
      "Epoch 25/50\n",
      "0s - loss: 0.0927 - acc: 0.9787 - val_loss: 0.0782 - val_acc: 0.9914\n",
      "Epoch 26/50\n",
      "0s - loss: 0.0859 - acc: 0.9660 - val_loss: 0.0850 - val_acc: 0.9914\n",
      "Epoch 27/50\n",
      "0s - loss: 0.0763 - acc: 0.9830 - val_loss: 0.0790 - val_acc: 0.9914\n",
      "Epoch 28/50\n",
      "0s - loss: 0.0756 - acc: 0.9830 - val_loss: 0.0778 - val_acc: 0.9914\n",
      "Epoch 29/50\n",
      "0s - loss: 0.0673 - acc: 0.9830 - val_loss: 0.0771 - val_acc: 0.9914\n",
      "Epoch 30/50\n",
      "0s - loss: 0.0691 - acc: 0.9830 - val_loss: 0.0837 - val_acc: 0.9914\n",
      "Epoch 31/50\n",
      "0s - loss: 0.0663 - acc: 0.9830 - val_loss: 0.0691 - val_acc: 0.9914\n",
      "Epoch 32/50\n",
      "0s - loss: 0.0639 - acc: 0.9830 - val_loss: 0.0682 - val_acc: 0.9914\n",
      "Epoch 33/50\n",
      "0s - loss: 0.0580 - acc: 0.9830 - val_loss: 0.0852 - val_acc: 0.9914\n",
      "Epoch 34/50\n",
      "0s - loss: 0.0644 - acc: 0.9830 - val_loss: 0.0968 - val_acc: 0.9914\n",
      "Epoch 35/50\n",
      "0s - loss: 0.0569 - acc: 0.9872 - val_loss: 0.0642 - val_acc: 0.9914\n",
      "Epoch 36/50\n",
      "0s - loss: 0.0555 - acc: 0.9830 - val_loss: 0.0664 - val_acc: 0.9914\n",
      "Epoch 37/50\n",
      "0s - loss: 0.0508 - acc: 0.9830 - val_loss: 0.0830 - val_acc: 0.9914\n",
      "Epoch 38/50\n",
      "0s - loss: 0.0529 - acc: 0.9830 - val_loss: 0.0631 - val_acc: 0.9914\n",
      "Epoch 39/50\n",
      "0s - loss: 0.0533 - acc: 0.9872 - val_loss: 0.0978 - val_acc: 0.9914\n",
      "Epoch 40/50\n",
      "0s - loss: 0.0505 - acc: 0.9872 - val_loss: 0.0659 - val_acc: 0.9914\n",
      "Epoch 41/50\n",
      "0s - loss: 0.0471 - acc: 0.9872 - val_loss: 0.0752 - val_acc: 0.9914\n",
      "Epoch 42/50\n",
      "0s - loss: 0.0470 - acc: 0.9872 - val_loss: 0.0903 - val_acc: 0.9914\n",
      "Epoch 43/50\n",
      "0s - loss: 0.0511 - acc: 0.9872 - val_loss: 0.0689 - val_acc: 0.9914\n",
      "Epoch 44/50\n",
      "0s - loss: 0.0484 - acc: 0.9872 - val_loss: 0.0606 - val_acc: 0.9914\n",
      "Epoch 45/50\n",
      "0s - loss: 0.0406 - acc: 0.9915 - val_loss: 0.0857 - val_acc: 0.9914\n",
      "Epoch 46/50\n",
      "0s - loss: 0.0481 - acc: 0.9872 - val_loss: 0.0686 - val_acc: 0.9914\n",
      "Epoch 47/50\n",
      "0s - loss: 0.0465 - acc: 0.9915 - val_loss: 0.0502 - val_acc: 0.9914\n",
      "Epoch 48/50\n",
      "0s - loss: 0.0466 - acc: 0.9872 - val_loss: 0.0756 - val_acc: 0.9914\n",
      "Epoch 49/50\n",
      "0s - loss: 0.0438 - acc: 0.9957 - val_loss: 0.0806 - val_acc: 0.9914\n",
      "Epoch 50/50\n",
      "0s - loss: 0.0389 - acc: 0.9915 - val_loss: 0.0533 - val_acc: 0.9914\n"
     ]
    }
   ],
   "source": [
    "# Compile model (No Decay Rate Schedule - Baseline)\n",
    "epochs = 50\n",
    "learning_rate = 0.1\n",
    "decay_rate = 0.0\n",
    "momentum = 0.8\n",
    "sgd = SGD(lr=learning_rate, momentum=momentum, decay=decay_rate, nesterov=False)\n",
    "model.compile(loss='binary_crossentropy', optimizer=sgd, metrics=['accuracy'])\n",
    "\n",
    "# Fit the model\n",
    "history = model.fit(X, Y, validation_split=0.33, epochs=epochs, batch_size=28, verbose=2)"
   ]
  },
  {
   "cell_type": "code",
   "execution_count": 5,
   "metadata": {
    "collapsed": false
   },
   "outputs": [
    {
     "data": {
      "image/png": "[encoded data removed]",
      "text/plain": [
       "<matplotlib.figure.Figure at 0x23b89a5b630>"
      ]
     },
     "metadata": {},
     "output_type": "display_data"
    }
   ],
   "source": [
    "import matplotlib.pyplot as plt\n",
    "# summarize history for loss\n",
    "plt.plot(history.history['loss'])\n",
    "plt.plot(history.history['val_loss'])\n",
    "plt.title('model loss')\n",
    "plt.ylabel('loss')\n",
    "plt.xlabel('epoch')\n",
    "plt.legend(['train', 'test'], loc='upper left')\n",
    "plt.show()"
   ]
  },
  {
   "cell_type": "code",
   "execution_count": 6,
   "metadata": {
    "collapsed": false
   },
   "outputs": [
    {
     "name": "stdout",
     "output_type": "stream",
     "text": [
      "Train on 235 samples, validate on 116 samples\n",
      "Epoch 1/50\n",
      "0s - loss: 0.0396 - acc: 0.9957 - val_loss: 0.0884 - val_acc: 0.9828\n",
      "Epoch 2/50\n",
      "0s - loss: 0.0393 - acc: 0.9872 - val_loss: 0.0540 - val_acc: 0.9914\n",
      "Epoch 3/50\n",
      "0s - loss: 0.0449 - acc: 0.9915 - val_loss: 0.0511 - val_acc: 0.9914\n",
      "Epoch 4/50\n",
      "0s - loss: 0.0390 - acc: 0.9915 - val_loss: 0.0656 - val_acc: 0.9914\n",
      "Epoch 5/50\n",
      "0s - loss: 0.0343 - acc: 0.9957 - val_loss: 0.0706 - val_acc: 0.9914\n",
      "Epoch 6/50\n",
      "0s - loss: 0.0327 - acc: 0.9957 - val_loss: 0.0670 - val_acc: 0.9914\n",
      "Epoch 7/50\n",
      "0s - loss: 0.0330 - acc: 0.9915 - val_loss: 0.0678 - val_acc: 0.9914\n",
      "Epoch 8/50\n",
      "0s - loss: 0.0311 - acc: 0.9957 - val_loss: 0.0688 - val_acc: 0.9914\n",
      "Epoch 9/50\n",
      "0s - loss: 0.0312 - acc: 0.9957 - val_loss: 0.0641 - val_acc: 0.9914\n",
      "Epoch 10/50\n",
      "0s - loss: 0.0311 - acc: 0.9957 - val_loss: 0.0611 - val_acc: 0.9914\n",
      "Epoch 11/50\n",
      "0s - loss: 0.0304 - acc: 0.9915 - val_loss: 0.0725 - val_acc: 0.9914\n",
      "Epoch 12/50\n",
      "0s - loss: 0.0299 - acc: 0.9957 - val_loss: 0.0651 - val_acc: 0.9914\n",
      "Epoch 13/50\n",
      "0s - loss: 0.0298 - acc: 0.9957 - val_loss: 0.0648 - val_acc: 0.9914\n",
      "Epoch 14/50\n",
      "0s - loss: 0.0296 - acc: 0.9957 - val_loss: 0.0810 - val_acc: 0.9828\n",
      "Epoch 15/50\n",
      "0s - loss: 0.0313 - acc: 0.9957 - val_loss: 0.0693 - val_acc: 0.9914\n",
      "Epoch 16/50\n",
      "0s - loss: 0.0283 - acc: 0.9957 - val_loss: 0.0599 - val_acc: 0.9914\n",
      "Epoch 17/50\n",
      "0s - loss: 0.0293 - acc: 0.9957 - val_loss: 0.0746 - val_acc: 0.9914\n",
      "Epoch 18/50\n",
      "0s - loss: 0.0285 - acc: 0.9957 - val_loss: 0.0661 - val_acc: 0.9914\n",
      "Epoch 19/50\n",
      "0s - loss: 0.0274 - acc: 0.9957 - val_loss: 0.0795 - val_acc: 0.9741\n",
      "Epoch 20/50\n",
      "0s - loss: 0.0291 - acc: 0.9915 - val_loss: 0.0649 - val_acc: 0.9914\n",
      "Epoch 21/50\n",
      "0s - loss: 0.0325 - acc: 0.9915 - val_loss: 0.0805 - val_acc: 0.9741\n",
      "Epoch 22/50\n",
      "0s - loss: 0.0289 - acc: 0.9957 - val_loss: 0.0556 - val_acc: 0.9914\n",
      "Epoch 23/50\n",
      "0s - loss: 0.0308 - acc: 0.9957 - val_loss: 0.0725 - val_acc: 0.9828\n",
      "Epoch 24/50\n",
      "0s - loss: 0.0268 - acc: 0.9957 - val_loss: 0.0745 - val_acc: 0.9828\n",
      "Epoch 25/50\n",
      "0s - loss: 0.0268 - acc: 0.9957 - val_loss: 0.0751 - val_acc: 0.9828\n",
      "Epoch 26/50\n",
      "0s - loss: 0.0250 - acc: 0.9957 - val_loss: 0.0738 - val_acc: 0.9741\n",
      "Epoch 27/50\n",
      "0s - loss: 0.0242 - acc: 0.9957 - val_loss: 0.0625 - val_acc: 0.9914\n",
      "Epoch 28/50\n",
      "0s - loss: 0.0265 - acc: 0.9957 - val_loss: 0.0908 - val_acc: 0.9741\n",
      "Epoch 29/50\n",
      "0s - loss: 0.0243 - acc: 0.9957 - val_loss: 0.0645 - val_acc: 0.9828\n",
      "Epoch 30/50\n",
      "0s - loss: 0.0269 - acc: 0.9957 - val_loss: 0.0694 - val_acc: 0.9828\n",
      "Epoch 31/50\n",
      "0s - loss: 0.0247 - acc: 0.9957 - val_loss: 0.0675 - val_acc: 0.9828\n",
      "Epoch 32/50\n",
      "0s - loss: 0.0253 - acc: 0.9957 - val_loss: 0.0743 - val_acc: 0.9828\n",
      "Epoch 33/50\n",
      "0s - loss: 0.0246 - acc: 0.9957 - val_loss: 0.0813 - val_acc: 0.9741\n",
      "Epoch 34/50\n",
      "0s - loss: 0.0249 - acc: 0.9957 - val_loss: 0.0720 - val_acc: 0.9828\n",
      "Epoch 35/50\n",
      "0s - loss: 0.0254 - acc: 0.9957 - val_loss: 0.0630 - val_acc: 0.9828\n",
      "Epoch 36/50\n",
      "0s - loss: 0.0250 - acc: 0.9957 - val_loss: 0.0908 - val_acc: 0.9655\n",
      "Epoch 37/50\n",
      "0s - loss: 0.0238 - acc: 0.9957 - val_loss: 0.0700 - val_acc: 0.9828\n",
      "Epoch 38/50\n",
      "0s - loss: 0.0238 - acc: 0.9957 - val_loss: 0.0736 - val_acc: 0.9828\n",
      "Epoch 39/50\n",
      "0s - loss: 0.0224 - acc: 0.9957 - val_loss: 0.0793 - val_acc: 0.9741\n",
      "Epoch 40/50\n",
      "0s - loss: 0.0238 - acc: 0.9957 - val_loss: 0.0844 - val_acc: 0.9655\n",
      "Epoch 41/50\n",
      "0s - loss: 0.0225 - acc: 0.9957 - val_loss: 0.0781 - val_acc: 0.9741\n",
      "Epoch 42/50\n",
      "0s - loss: 0.0220 - acc: 0.9957 - val_loss: 0.0762 - val_acc: 0.9741\n",
      "Epoch 43/50\n",
      "0s - loss: 0.0215 - acc: 0.9957 - val_loss: 0.0812 - val_acc: 0.9741\n",
      "Epoch 44/50\n",
      "0s - loss: 0.0233 - acc: 0.9957 - val_loss: 0.0806 - val_acc: 0.9741\n",
      "Epoch 45/50\n",
      "0s - loss: 0.0235 - acc: 0.9957 - val_loss: 0.0609 - val_acc: 0.9828\n",
      "Epoch 46/50\n",
      "0s - loss: 0.0268 - acc: 0.9957 - val_loss: 0.1020 - val_acc: 0.9655\n",
      "Epoch 47/50\n",
      "0s - loss: 0.0255 - acc: 0.9957 - val_loss: 0.0724 - val_acc: 0.9741\n",
      "Epoch 48/50\n",
      "0s - loss: 0.0210 - acc: 0.9957 - val_loss: 0.0798 - val_acc: 0.9741\n",
      "Epoch 49/50\n",
      "0s - loss: 0.0217 - acc: 0.9957 - val_loss: 0.0798 - val_acc: 0.9741\n",
      "Epoch 50/50\n",
      "0s - loss: 0.0211 - acc: 0.9957 - val_loss: 0.0647 - val_acc: 0.9828\n"
     ]
    },
    {
     "data": {
      "image/png": "[encoded data removed]",
      "text/plain": [
       "<matplotlib.figure.Figure at 0x23b8b2d0c88>"
      ]
     },
     "metadata": {},
     "output_type": "display_data"
    }
   ],
   "source": [
    "# Fit the model\n",
    "history2 = model.fit(X, Y, validation_split=0.33, epochs=epochs, batch_size=28, verbose=2)\n",
    "import matplotlib.pyplot as plt\n",
    "# summarize history for loss\n",
    "plt.plot(history2.history['loss'])\n",
    "plt.plot(history2.history['val_loss'])\n",
    "plt.title('model loss')\n",
    "plt.ylabel('loss')\n",
    "plt.xlabel('epoch')\n",
    "plt.legend(['train', 'test'], loc='upper left')\n",
    "plt.show()"
   ]
  }
 ],
 "metadata": {
  "anaconda-cloud": {},
  "kernelspec": {
   "display_name": "Python [conda env:deeplearning]",
   "language": "python",
   "name": "conda-env-deeplearning-py"
  },
  "language_info": {
   "codemirror_mode": {
    "name": "ipython",
    "version": 3
   },
   "file_extension": ".py",
   "mimetype": "text/x-python",
   "name": "python",
   "nbconvert_exporter": "python",
   "pygments_lexer": "ipython3",
   "version": "3.5.3"
  }
 },
 "nbformat": 4,
 "nbformat_minor": 0
}
